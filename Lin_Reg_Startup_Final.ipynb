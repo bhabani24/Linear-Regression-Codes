{
 "cells": [
  {
   "cell_type": "code",
   "execution_count": 1,
   "id": "e231ca34",
   "metadata": {},
   "outputs": [],
   "source": [
    "# Importing the libraries\n",
    "\n",
    "import os  # For setting the working directory\n",
    "import numpy as np   # For numpy calculations\n",
    "import matplotlib.pyplot as plt   # For data visualization\n",
    "import pandas as pd   # For DataFrame processing\n",
    "import statsmodels.api as sm  # For getting the statistics of the final model\n",
    "from sklearn.preprocessing import LabelEncoder, OneHotEncoder\n",
    "from sklearn.model_selection import train_test_split\n"
   ]
  },
  {
   "cell_type": "code",
   "execution_count": 13,
   "id": "582cf157",
   "metadata": {},
   "outputs": [],
   "source": [
    "# # Importing the dataset\n",
    "# =============================================================================\n",
    "\n",
    "os.chdir('D:\\\\MLP_Session_26_JULY\\\\MLP_10_11_08_21')\n",
    "dataset = pd.read_csv('50_Startups_data.csv')"
   ]
  },
  {
   "cell_type": "code",
   "execution_count": 14,
   "id": "ef0d2f36",
   "metadata": {},
   "outputs": [
    {
     "data": {
      "text/html": [
       "<div>\n",
       "<style scoped>\n",
       "    .dataframe tbody tr th:only-of-type {\n",
       "        vertical-align: middle;\n",
       "    }\n",
       "\n",
       "    .dataframe tbody tr th {\n",
       "        vertical-align: top;\n",
       "    }\n",
       "\n",
       "    .dataframe thead th {\n",
       "        text-align: right;\n",
       "    }\n",
       "</style>\n",
       "<table border=\"1\" class=\"dataframe\">\n",
       "  <thead>\n",
       "    <tr style=\"text-align: right;\">\n",
       "      <th></th>\n",
       "      <th>R&amp;D Spend</th>\n",
       "      <th>Administration</th>\n",
       "      <th>Marketing Spend</th>\n",
       "      <th>State</th>\n",
       "      <th>Profit</th>\n",
       "    </tr>\n",
       "  </thead>\n",
       "  <tbody>\n",
       "    <tr>\n",
       "      <th>0</th>\n",
       "      <td>165349.20</td>\n",
       "      <td>136897.80</td>\n",
       "      <td>471784.10</td>\n",
       "      <td>New York</td>\n",
       "      <td>14681.40</td>\n",
       "    </tr>\n",
       "    <tr>\n",
       "      <th>1</th>\n",
       "      <td>162597.70</td>\n",
       "      <td>151377.59</td>\n",
       "      <td>443898.53</td>\n",
       "      <td>California</td>\n",
       "      <td>35673.41</td>\n",
       "    </tr>\n",
       "    <tr>\n",
       "      <th>2</th>\n",
       "      <td>153441.51</td>\n",
       "      <td>101145.55</td>\n",
       "      <td>407934.54</td>\n",
       "      <td>Florida</td>\n",
       "      <td>42559.73</td>\n",
       "    </tr>\n",
       "    <tr>\n",
       "      <th>3</th>\n",
       "      <td>144372.41</td>\n",
       "      <td>118671.85</td>\n",
       "      <td>383199.62</td>\n",
       "      <td>New York</td>\n",
       "      <td>49490.75</td>\n",
       "    </tr>\n",
       "    <tr>\n",
       "      <th>4</th>\n",
       "      <td>142107.34</td>\n",
       "      <td>91391.77</td>\n",
       "      <td>366168.42</td>\n",
       "      <td>Florida</td>\n",
       "      <td>64926.08</td>\n",
       "    </tr>\n",
       "  </tbody>\n",
       "</table>\n",
       "</div>"
      ],
      "text/plain": [
       "   R&D Spend  Administration  Marketing Spend       State    Profit\n",
       "0  165349.20       136897.80        471784.10    New York  14681.40\n",
       "1  162597.70       151377.59        443898.53  California  35673.41\n",
       "2  153441.51       101145.55        407934.54     Florida  42559.73\n",
       "3  144372.41       118671.85        383199.62    New York  49490.75\n",
       "4  142107.34        91391.77        366168.42     Florida  64926.08"
      ]
     },
     "execution_count": 14,
     "metadata": {},
     "output_type": "execute_result"
    }
   ],
   "source": [
    "dataset.head()"
   ]
  },
  {
   "cell_type": "code",
   "execution_count": 15,
   "id": "db66daf9",
   "metadata": {},
   "outputs": [
    {
     "data": {
      "text/plain": [
       "R&D Spend          0\n",
       "Administration     0\n",
       "Marketing Spend    0\n",
       "State              0\n",
       "Profit             0\n",
       "dtype: int64"
      ]
     },
     "execution_count": 15,
     "metadata": {},
     "output_type": "execute_result"
    }
   ],
   "source": [
    "# Missing values\n",
    "\n",
    "dataset.isnull().sum()"
   ]
  },
  {
   "cell_type": "code",
   "execution_count": 16,
   "id": "3f98e65e",
   "metadata": {},
   "outputs": [
    {
     "data": {
      "text/plain": [
       "Index(['R&D Spend', 'Administration', 'Marketing Spend', 'State', 'Profit'], dtype='object')"
      ]
     },
     "execution_count": 16,
     "metadata": {},
     "output_type": "execute_result"
    }
   ],
   "source": [
    "# For Viewing the columns\n",
    "\n",
    "dataset.columns"
   ]
  },
  {
   "cell_type": "code",
   "execution_count": 17,
   "id": "1a8219f0",
   "metadata": {},
   "outputs": [
    {
     "data": {
      "text/plain": [
       "R&D Spend          float64\n",
       "Administration     float64\n",
       "Marketing Spend    float64\n",
       "State               object\n",
       "Profit             float64\n",
       "dtype: object"
      ]
     },
     "execution_count": 17,
     "metadata": {},
     "output_type": "execute_result"
    }
   ],
   "source": [
    "# For checking the data type of the variables\n",
    "\n",
    "dataset.dtypes"
   ]
  },
  {
   "cell_type": "code",
   "execution_count": 18,
   "id": "74ced165",
   "metadata": {},
   "outputs": [
    {
     "data": {
      "text/plain": [
       "(50, 5)"
      ]
     },
     "execution_count": 18,
     "metadata": {},
     "output_type": "execute_result"
    }
   ],
   "source": [
    "# For checking the number of rows and columns\n",
    " \n",
    "dataset.shape"
   ]
  },
  {
   "cell_type": "code",
   "execution_count": 19,
   "id": "8f4c54da",
   "metadata": {},
   "outputs": [
    {
     "name": "stdout",
     "output_type": "stream",
     "text": [
      "<class 'pandas.core.frame.DataFrame'>\n",
      "RangeIndex: 50 entries, 0 to 49\n",
      "Data columns (total 5 columns):\n",
      " #   Column           Non-Null Count  Dtype  \n",
      "---  ------           --------------  -----  \n",
      " 0   R&D Spend        50 non-null     float64\n",
      " 1   Administration   50 non-null     float64\n",
      " 2   Marketing Spend  50 non-null     float64\n",
      " 3   State            50 non-null     object \n",
      " 4   Profit           50 non-null     float64\n",
      "dtypes: float64(4), object(1)\n",
      "memory usage: 2.1+ KB\n"
     ]
    }
   ],
   "source": [
    "# For getting information about the data\n",
    " \n",
    "dataset.info()"
   ]
  },
  {
   "cell_type": "code",
   "execution_count": 23,
   "id": "e63bfc7a",
   "metadata": {},
   "outputs": [],
   "source": [
    "# =============================================================================\n",
    "# Creating the Independendent and Dependent Data Sets\n",
    "# =============================================================================\n",
    "\n",
    "\n",
    "X = dataset.loc[:,'R&D Spend':'State'] #Feature Data\n",
    "y = dataset.loc[:, 'Profit'] # Dependent Data\n",
    "\n",
    "\n",
    "#X = dataset.iloc[:,:-1] #Feature Data\n",
    "#Y = dataset.iloc[:,-1 ] # Dependent Data\n",
    "\n",
    "\n",
    "# X = dataset.iloc[:, dataset.columns != 'Profit']\n",
    "# Y = dataset.iloc[:, dataset.columns == 'Profit']"
   ]
  },
  {
   "cell_type": "code",
   "execution_count": 24,
   "id": "50e87fe5",
   "metadata": {},
   "outputs": [],
   "source": [
    "#Dummy Variables creation\n",
    "\n",
    "X_dummy = pd.get_dummies(dataset['State'],prefix='State',drop_first=True)"
   ]
  },
  {
   "cell_type": "code",
   "execution_count": 25,
   "id": "256700e9",
   "metadata": {},
   "outputs": [
    {
     "data": {
      "text/html": [
       "<div>\n",
       "<style scoped>\n",
       "    .dataframe tbody tr th:only-of-type {\n",
       "        vertical-align: middle;\n",
       "    }\n",
       "\n",
       "    .dataframe tbody tr th {\n",
       "        vertical-align: top;\n",
       "    }\n",
       "\n",
       "    .dataframe thead th {\n",
       "        text-align: right;\n",
       "    }\n",
       "</style>\n",
       "<table border=\"1\" class=\"dataframe\">\n",
       "  <thead>\n",
       "    <tr style=\"text-align: right;\">\n",
       "      <th></th>\n",
       "      <th>State_Florida</th>\n",
       "      <th>State_New York</th>\n",
       "    </tr>\n",
       "  </thead>\n",
       "  <tbody>\n",
       "    <tr>\n",
       "      <th>0</th>\n",
       "      <td>0</td>\n",
       "      <td>1</td>\n",
       "    </tr>\n",
       "    <tr>\n",
       "      <th>1</th>\n",
       "      <td>0</td>\n",
       "      <td>0</td>\n",
       "    </tr>\n",
       "    <tr>\n",
       "      <th>2</th>\n",
       "      <td>1</td>\n",
       "      <td>0</td>\n",
       "    </tr>\n",
       "    <tr>\n",
       "      <th>3</th>\n",
       "      <td>0</td>\n",
       "      <td>1</td>\n",
       "    </tr>\n",
       "    <tr>\n",
       "      <th>4</th>\n",
       "      <td>1</td>\n",
       "      <td>0</td>\n",
       "    </tr>\n",
       "  </tbody>\n",
       "</table>\n",
       "</div>"
      ],
      "text/plain": [
       "   State_Florida  State_New York\n",
       "0              0               1\n",
       "1              0               0\n",
       "2              1               0\n",
       "3              0               1\n",
       "4              1               0"
      ]
     },
     "execution_count": 25,
     "metadata": {},
     "output_type": "execute_result"
    }
   ],
   "source": [
    "X_dummy.head()"
   ]
  },
  {
   "cell_type": "code",
   "execution_count": 27,
   "id": "7c332b9a",
   "metadata": {},
   "outputs": [],
   "source": [
    "X_numeric = dataset.loc[:,'R&D Spend':'Marketing Spend']"
   ]
  },
  {
   "cell_type": "code",
   "execution_count": 28,
   "id": "730894c7",
   "metadata": {},
   "outputs": [],
   "source": [
    "# Feature Scaling -- Useful when Features have different units\n",
    "\n",
    "from sklearn.preprocessing import MinMaxScaler\n",
    "\n",
    "sc= MinMaxScaler()\n",
    "X_numeric = sc.fit_transform(X_numeric)\n",
    "\n"
   ]
  },
  {
   "cell_type": "code",
   "execution_count": 30,
   "id": "ce0d6cfe",
   "metadata": {},
   "outputs": [
    {
     "data": {
      "text/plain": [
       "array([[1.        , 0.65174393, 1.        ],\n",
       "       [0.98335946, 0.76197173, 0.94089337],\n",
       "       [0.92798459, 0.37957895, 0.8646636 ],\n",
       "       [0.87313643, 0.51299839, 0.81223513],\n",
       "       [0.85943772, 0.30532804, 0.77613557],\n",
       "       [0.797566  , 0.3694479 , 0.76912588],\n",
       "       [0.81412828, 0.73016111, 0.27071031],\n",
       "       [0.7880179 , 0.71745725, 0.68649342],\n",
       "       [0.72901786, 0.74173276, 0.66049977],\n",
       "       [0.74590551, 0.43692884, 0.64644319],\n",
       "       [0.61635061, 0.45150637, 0.48573267],\n",
       "       [0.60884455, 0.30836422, 0.52936195],\n",
       "       [0.56766982, 0.57883556, 0.52956308],\n",
       "       [0.55635219, 0.64106561, 0.53555202],\n",
       "       [0.72539353, 0.8013272 , 0.54370828],\n",
       "       [0.69261666, 0.54302973, 0.55486446],\n",
       "       [0.47180821, 0.53527036, 0.56031151],\n",
       "       [0.57246821, 0.71401273, 0.59894835],\n",
       "       [0.55488118, 0.47877201, 0.62511553],\n",
       "       [0.52264964, 0.77823604, 0.        ],\n",
       "       [0.46116861, 0.47642362, 0.63305328],\n",
       "       [0.47408436, 0.78021012, 0.63532724],\n",
       "       [0.4475048 , 0.54429273, 0.64291963],\n",
       "       [0.40842369, 0.4146383 , 0.64599195],\n",
       "       [0.46594728, 0.3653876 , 0.29796428],\n",
       "       [0.39107967, 0.67195793, 0.29242745],\n",
       "       [0.45557444, 0.70684477, 0.28413435],\n",
       "       [0.43609283, 0.58297807, 0.74861321],\n",
       "       [0.39946683, 1.        , 0.25042853],\n",
       "       [0.39676926, 0.77456642, 0.22709197],\n",
       "       [0.37493063, 0.48992809, 0.19316302],\n",
       "       [0.36974101, 0.77205322, 0.18698856],\n",
       "       [0.38348453, 0.5932935 , 0.09768292],\n",
       "       [0.33561668, 0.39413365, 0.45494286],\n",
       "       [0.2807759 , 0.81005496, 0.44680961],\n",
       "       [0.2782839 , 0.25703165, 0.43561799],\n",
       "       [0.17335288, 0.57682456, 0.42631115],\n",
       "       [0.26652654, 0.        , 0.41762624],\n",
       "       [0.12234465, 0.11163611, 0.39269043],\n",
       "       [0.23319442, 0.24130912, 0.3709309 ],\n",
       "       [0.17390063, 0.51204073, 0.36626005],\n",
       "       [0.16869099, 0.25446874, 0.34861436],\n",
       "       [0.14297577, 0.34185188, 0.31370517],\n",
       "       [0.09377566, 0.57930693, 0.07531871],\n",
       "       [0.13412668, 0.78807166, 0.06005866],\n",
       "       [0.0060492 , 0.5547241 , 0.0040356 ],\n",
       "       [0.00795565, 0.49125975, 0.62976785],\n",
       "       [0.        , 0.64054682, 0.        ],\n",
       "       [0.00327821, 0.00350184, 0.        ],\n",
       "       [0.        , 0.50014806, 0.09574943]])"
      ]
     },
     "execution_count": 30,
     "metadata": {},
     "output_type": "execute_result"
    }
   ],
   "source": [
    "X_numeric"
   ]
  },
  {
   "cell_type": "code",
   "execution_count": 32,
   "id": "ca7c1b0e",
   "metadata": {},
   "outputs": [],
   "source": [
    "X_numeric = pd.DataFrame(X_numeric)"
   ]
  },
  {
   "cell_type": "code",
   "execution_count": 33,
   "id": "47325788",
   "metadata": {},
   "outputs": [
    {
     "data": {
      "text/html": [
       "<div>\n",
       "<style scoped>\n",
       "    .dataframe tbody tr th:only-of-type {\n",
       "        vertical-align: middle;\n",
       "    }\n",
       "\n",
       "    .dataframe tbody tr th {\n",
       "        vertical-align: top;\n",
       "    }\n",
       "\n",
       "    .dataframe thead th {\n",
       "        text-align: right;\n",
       "    }\n",
       "</style>\n",
       "<table border=\"1\" class=\"dataframe\">\n",
       "  <thead>\n",
       "    <tr style=\"text-align: right;\">\n",
       "      <th></th>\n",
       "      <th>0</th>\n",
       "      <th>1</th>\n",
       "      <th>2</th>\n",
       "      <th>State_Florida</th>\n",
       "      <th>State_New York</th>\n",
       "    </tr>\n",
       "  </thead>\n",
       "  <tbody>\n",
       "    <tr>\n",
       "      <th>0</th>\n",
       "      <td>1.000000</td>\n",
       "      <td>0.651744</td>\n",
       "      <td>1.000000</td>\n",
       "      <td>0</td>\n",
       "      <td>1</td>\n",
       "    </tr>\n",
       "    <tr>\n",
       "      <th>1</th>\n",
       "      <td>0.983359</td>\n",
       "      <td>0.761972</td>\n",
       "      <td>0.940893</td>\n",
       "      <td>0</td>\n",
       "      <td>0</td>\n",
       "    </tr>\n",
       "    <tr>\n",
       "      <th>2</th>\n",
       "      <td>0.927985</td>\n",
       "      <td>0.379579</td>\n",
       "      <td>0.864664</td>\n",
       "      <td>1</td>\n",
       "      <td>0</td>\n",
       "    </tr>\n",
       "    <tr>\n",
       "      <th>3</th>\n",
       "      <td>0.873136</td>\n",
       "      <td>0.512998</td>\n",
       "      <td>0.812235</td>\n",
       "      <td>0</td>\n",
       "      <td>1</td>\n",
       "    </tr>\n",
       "    <tr>\n",
       "      <th>4</th>\n",
       "      <td>0.859438</td>\n",
       "      <td>0.305328</td>\n",
       "      <td>0.776136</td>\n",
       "      <td>1</td>\n",
       "      <td>0</td>\n",
       "    </tr>\n",
       "  </tbody>\n",
       "</table>\n",
       "</div>"
      ],
      "text/plain": [
       "          0         1         2  State_Florida  State_New York\n",
       "0  1.000000  0.651744  1.000000              0               1\n",
       "1  0.983359  0.761972  0.940893              0               0\n",
       "2  0.927985  0.379579  0.864664              1               0\n",
       "3  0.873136  0.512998  0.812235              0               1\n",
       "4  0.859438  0.305328  0.776136              1               0"
      ]
     },
     "execution_count": 33,
     "metadata": {},
     "output_type": "execute_result"
    }
   ],
   "source": [
    "# concatenate the dummy variable columns onto the original DataFrame (axis=0 means rows, axis=1 means columns)\n",
    "data = pd.concat([X_numeric, X_dummy], axis=1)\n",
    "data.head()"
   ]
  },
  {
   "cell_type": "code",
   "execution_count": 34,
   "id": "0bc4e6bd",
   "metadata": {},
   "outputs": [
    {
     "data": {
      "text/plain": [
       "Index([0, 1, 2, 'State_Florida', 'State_New York'], dtype='object')"
      ]
     },
     "execution_count": 34,
     "metadata": {},
     "output_type": "execute_result"
    }
   ],
   "source": [
    "data.columns"
   ]
  },
  {
   "cell_type": "code",
   "execution_count": 39,
   "id": "28821966",
   "metadata": {},
   "outputs": [],
   "source": [
    "# Renaming Multiple columns\n",
    "\n",
    "data = data.rename(columns={0:'R&D Spend',1:'Administration',2:'Marketing Spend'})"
   ]
  },
  {
   "cell_type": "code",
   "execution_count": 40,
   "id": "1efb14bc",
   "metadata": {},
   "outputs": [
    {
     "data": {
      "text/plain": [
       "Index(['R&D Spend', 'Administration', 'Marketing Spend', 'State_Florida',\n",
       "       'State_New York'],\n",
       "      dtype='object')"
      ]
     },
     "execution_count": 40,
     "metadata": {},
     "output_type": "execute_result"
    }
   ],
   "source": [
    "data.columns"
   ]
  },
  {
   "cell_type": "code",
   "execution_count": 41,
   "id": "62628b1c",
   "metadata": {},
   "outputs": [
    {
     "data": {
      "text/html": [
       "<div>\n",
       "<style scoped>\n",
       "    .dataframe tbody tr th:only-of-type {\n",
       "        vertical-align: middle;\n",
       "    }\n",
       "\n",
       "    .dataframe tbody tr th {\n",
       "        vertical-align: top;\n",
       "    }\n",
       "\n",
       "    .dataframe thead th {\n",
       "        text-align: right;\n",
       "    }\n",
       "</style>\n",
       "<table border=\"1\" class=\"dataframe\">\n",
       "  <thead>\n",
       "    <tr style=\"text-align: right;\">\n",
       "      <th></th>\n",
       "      <th>R&amp;D Spend</th>\n",
       "      <th>Administration</th>\n",
       "      <th>Marketing Spend</th>\n",
       "      <th>State_Florida</th>\n",
       "      <th>State_New York</th>\n",
       "    </tr>\n",
       "  </thead>\n",
       "  <tbody>\n",
       "    <tr>\n",
       "      <th>0</th>\n",
       "      <td>1.000000</td>\n",
       "      <td>0.651744</td>\n",
       "      <td>1.000000</td>\n",
       "      <td>0</td>\n",
       "      <td>1</td>\n",
       "    </tr>\n",
       "    <tr>\n",
       "      <th>1</th>\n",
       "      <td>0.983359</td>\n",
       "      <td>0.761972</td>\n",
       "      <td>0.940893</td>\n",
       "      <td>0</td>\n",
       "      <td>0</td>\n",
       "    </tr>\n",
       "    <tr>\n",
       "      <th>2</th>\n",
       "      <td>0.927985</td>\n",
       "      <td>0.379579</td>\n",
       "      <td>0.864664</td>\n",
       "      <td>1</td>\n",
       "      <td>0</td>\n",
       "    </tr>\n",
       "    <tr>\n",
       "      <th>3</th>\n",
       "      <td>0.873136</td>\n",
       "      <td>0.512998</td>\n",
       "      <td>0.812235</td>\n",
       "      <td>0</td>\n",
       "      <td>1</td>\n",
       "    </tr>\n",
       "    <tr>\n",
       "      <th>4</th>\n",
       "      <td>0.859438</td>\n",
       "      <td>0.305328</td>\n",
       "      <td>0.776136</td>\n",
       "      <td>1</td>\n",
       "      <td>0</td>\n",
       "    </tr>\n",
       "  </tbody>\n",
       "</table>\n",
       "</div>"
      ],
      "text/plain": [
       "   R&D Spend  Administration  Marketing Spend  State_Florida  State_New York\n",
       "0   1.000000        0.651744         1.000000              0               1\n",
       "1   0.983359        0.761972         0.940893              0               0\n",
       "2   0.927985        0.379579         0.864664              1               0\n",
       "3   0.873136        0.512998         0.812235              0               1\n",
       "4   0.859438        0.305328         0.776136              1               0"
      ]
     },
     "execution_count": 41,
     "metadata": {},
     "output_type": "execute_result"
    }
   ],
   "source": [
    "data.head()"
   ]
  },
  {
   "cell_type": "code",
   "execution_count": 42,
   "id": "142cf8fc",
   "metadata": {},
   "outputs": [],
   "source": [
    "# # Splitting the dataset into the Training set and Test set\n",
    "# =============================================================================\n",
    "\n",
    "from sklearn.model_selection import train_test_split\n",
    "X_train, X_test, y_train, y_test = train_test_split(data, y, test_size = 0.2,random_state=0)"
   ]
  },
  {
   "cell_type": "code",
   "execution_count": 43,
   "id": "dc6eafbd",
   "metadata": {},
   "outputs": [
    {
     "data": {
      "text/html": [
       "<div>\n",
       "<style scoped>\n",
       "    .dataframe tbody tr th:only-of-type {\n",
       "        vertical-align: middle;\n",
       "    }\n",
       "\n",
       "    .dataframe tbody tr th {\n",
       "        vertical-align: top;\n",
       "    }\n",
       "\n",
       "    .dataframe thead th {\n",
       "        text-align: right;\n",
       "    }\n",
       "</style>\n",
       "<table border=\"1\" class=\"dataframe\">\n",
       "  <thead>\n",
       "    <tr style=\"text-align: right;\">\n",
       "      <th></th>\n",
       "      <th>R&amp;D Spend</th>\n",
       "      <th>Administration</th>\n",
       "      <th>Marketing Spend</th>\n",
       "      <th>State_Florida</th>\n",
       "      <th>State_New York</th>\n",
       "    </tr>\n",
       "  </thead>\n",
       "  <tbody>\n",
       "    <tr>\n",
       "      <th>33</th>\n",
       "      <td>0.335617</td>\n",
       "      <td>0.394134</td>\n",
       "      <td>0.454943</td>\n",
       "      <td>1</td>\n",
       "      <td>0</td>\n",
       "    </tr>\n",
       "    <tr>\n",
       "      <th>35</th>\n",
       "      <td>0.278284</td>\n",
       "      <td>0.257032</td>\n",
       "      <td>0.435618</td>\n",
       "      <td>0</td>\n",
       "      <td>1</td>\n",
       "    </tr>\n",
       "    <tr>\n",
       "      <th>26</th>\n",
       "      <td>0.455574</td>\n",
       "      <td>0.706845</td>\n",
       "      <td>0.284134</td>\n",
       "      <td>1</td>\n",
       "      <td>0</td>\n",
       "    </tr>\n",
       "    <tr>\n",
       "      <th>34</th>\n",
       "      <td>0.280776</td>\n",
       "      <td>0.810055</td>\n",
       "      <td>0.446810</td>\n",
       "      <td>0</td>\n",
       "      <td>0</td>\n",
       "    </tr>\n",
       "    <tr>\n",
       "      <th>18</th>\n",
       "      <td>0.554881</td>\n",
       "      <td>0.478772</td>\n",
       "      <td>0.625116</td>\n",
       "      <td>1</td>\n",
       "      <td>0</td>\n",
       "    </tr>\n",
       "  </tbody>\n",
       "</table>\n",
       "</div>"
      ],
      "text/plain": [
       "    R&D Spend  Administration  Marketing Spend  State_Florida  State_New York\n",
       "33   0.335617        0.394134         0.454943              1               0\n",
       "35   0.278284        0.257032         0.435618              0               1\n",
       "26   0.455574        0.706845         0.284134              1               0\n",
       "34   0.280776        0.810055         0.446810              0               0\n",
       "18   0.554881        0.478772         0.625116              1               0"
      ]
     },
     "execution_count": 43,
     "metadata": {},
     "output_type": "execute_result"
    }
   ],
   "source": [
    "X_train.head()"
   ]
  },
  {
   "cell_type": "code",
   "execution_count": 44,
   "id": "ac911a7d",
   "metadata": {},
   "outputs": [
    {
     "data": {
      "text/plain": [
       "33    126992.93\n",
       "35    132602.65\n",
       "26    108733.99\n",
       "34    129917.04\n",
       "18     97483.56\n",
       "Name: Profit, dtype: float64"
      ]
     },
     "execution_count": 44,
     "metadata": {},
     "output_type": "execute_result"
    }
   ],
   "source": [
    "y_train.head()"
   ]
  },
  {
   "cell_type": "code",
   "execution_count": 45,
   "id": "e68a71ef",
   "metadata": {},
   "outputs": [],
   "source": [
    "# USING STATSMODELS PACKAGE \n",
    "\n",
    "import statsmodels.api as sm  # For getting the statistics of the final model\n",
    "\n",
    "#Adding Intercept term to the model\n",
    "\n",
    "X_train=sm.add_constant(X_train)\n",
    "X_test=sm.add_constant(X_test)"
   ]
  },
  {
   "cell_type": "code",
   "execution_count": 46,
   "id": "4cb5f332",
   "metadata": {},
   "outputs": [],
   "source": [
    "#Fitting a linear regression model to the train data set\n",
    "\n",
    "m = sm.OLS(y_train,X_train)\n",
    "model = m.fit()\n"
   ]
  },
  {
   "cell_type": "code",
   "execution_count": 47,
   "id": "0f0465a2",
   "metadata": {},
   "outputs": [],
   "source": [
    "#Predicting the model on the test data set\n",
    "predictions = model.predict(X_test)\n"
   ]
  },
  {
   "cell_type": "code",
   "execution_count": 48,
   "id": "cbcc7277",
   "metadata": {},
   "outputs": [
    {
     "data": {
      "text/html": [
       "<table class=\"simpletable\">\n",
       "<caption>OLS Regression Results</caption>\n",
       "<tr>\n",
       "  <th>Dep. Variable:</th>         <td>Profit</td>      <th>  R-squared:         </th> <td>   0.953</td>\n",
       "</tr>\n",
       "<tr>\n",
       "  <th>Model:</th>                   <td>OLS</td>       <th>  Adj. R-squared:    </th> <td>   0.947</td>\n",
       "</tr>\n",
       "<tr>\n",
       "  <th>Method:</th>             <td>Least Squares</td>  <th>  F-statistic:       </th> <td>   139.3</td>\n",
       "</tr>\n",
       "<tr>\n",
       "  <th>Date:</th>             <td>Thu, 21 Oct 2021</td> <th>  Prob (F-statistic):</th> <td>1.24e-21</td>\n",
       "</tr>\n",
       "<tr>\n",
       "  <th>Time:</th>                 <td>18:45:45</td>     <th>  Log-Likelihood:    </th> <td> -420.35</td>\n",
       "</tr>\n",
       "<tr>\n",
       "  <th>No. Observations:</th>      <td>    40</td>      <th>  AIC:               </th> <td>   852.7</td>\n",
       "</tr>\n",
       "<tr>\n",
       "  <th>Df Residuals:</th>          <td>    34</td>      <th>  BIC:               </th> <td>   862.8</td>\n",
       "</tr>\n",
       "<tr>\n",
       "  <th>Df Model:</th>              <td>     5</td>      <th>                     </th>     <td> </td>   \n",
       "</tr>\n",
       "<tr>\n",
       "  <th>Covariance Type:</th>      <td>nonrobust</td>    <th>                     </th>     <td> </td>   \n",
       "</tr>\n",
       "</table>\n",
       "<table class=\"simpletable\">\n",
       "<tr>\n",
       "         <td></td>            <th>coef</th>     <th>std err</th>      <th>t</th>      <th>P>|t|</th>  <th>[0.025</th>    <th>0.975]</th>  \n",
       "</tr>\n",
       "<tr>\n",
       "  <th>const</th>           <td> 1.833e+05</td> <td> 5328.564</td> <td>   34.390</td> <td> 0.000</td> <td> 1.72e+05</td> <td> 1.94e+05</td>\n",
       "</tr>\n",
       "<tr>\n",
       "  <th>R&D Spend</th>       <td>-1.289e+05</td> <td> 8951.155</td> <td>  -14.402</td> <td> 0.000</td> <td>-1.47e+05</td> <td>-1.11e+05</td>\n",
       "</tr>\n",
       "<tr>\n",
       "  <th>Administration</th>  <td>-9255.1227</td> <td> 8570.851</td> <td>   -1.080</td> <td> 0.288</td> <td>-2.67e+04</td> <td> 8162.941</td>\n",
       "</tr>\n",
       "<tr>\n",
       "  <th>Marketing Spend</th> <td>-1.714e+04</td> <td> 8997.011</td> <td>   -1.905</td> <td> 0.065</td> <td>-3.54e+04</td> <td> 1144.359</td>\n",
       "</tr>\n",
       "<tr>\n",
       "  <th>State_Florida</th>   <td>  883.0256</td> <td> 3963.845</td> <td>    0.223</td> <td> 0.825</td> <td>-7172.477</td> <td> 8938.529</td>\n",
       "</tr>\n",
       "<tr>\n",
       "  <th>State_New York</th>  <td>-1681.0226</td> <td> 3594.225</td> <td>   -0.468</td> <td> 0.643</td> <td>-8985.367</td> <td> 5623.322</td>\n",
       "</tr>\n",
       "</table>\n",
       "<table class=\"simpletable\">\n",
       "<tr>\n",
       "  <th>Omnibus:</th>       <td> 2.908</td> <th>  Durbin-Watson:     </th> <td>   2.197</td>\n",
       "</tr>\n",
       "<tr>\n",
       "  <th>Prob(Omnibus):</th> <td> 0.234</td> <th>  Jarque-Bera (JB):  </th> <td>   2.340</td>\n",
       "</tr>\n",
       "<tr>\n",
       "  <th>Skew:</th>          <td> 0.592</td> <th>  Prob(JB):          </th> <td>   0.310</td>\n",
       "</tr>\n",
       "<tr>\n",
       "  <th>Kurtosis:</th>      <td> 2.964</td> <th>  Cond. No.          </th> <td>    11.8</td>\n",
       "</tr>\n",
       "</table><br/><br/>Notes:<br/>[1] Standard Errors assume that the covariance matrix of the errors is correctly specified."
      ],
      "text/plain": [
       "<class 'statsmodels.iolib.summary.Summary'>\n",
       "\"\"\"\n",
       "                            OLS Regression Results                            \n",
       "==============================================================================\n",
       "Dep. Variable:                 Profit   R-squared:                       0.953\n",
       "Model:                            OLS   Adj. R-squared:                  0.947\n",
       "Method:                 Least Squares   F-statistic:                     139.3\n",
       "Date:                Thu, 21 Oct 2021   Prob (F-statistic):           1.24e-21\n",
       "Time:                        18:45:45   Log-Likelihood:                -420.35\n",
       "No. Observations:                  40   AIC:                             852.7\n",
       "Df Residuals:                      34   BIC:                             862.8\n",
       "Df Model:                           5                                         \n",
       "Covariance Type:            nonrobust                                         \n",
       "===================================================================================\n",
       "                      coef    std err          t      P>|t|      [0.025      0.975]\n",
       "-----------------------------------------------------------------------------------\n",
       "const            1.833e+05   5328.564     34.390      0.000    1.72e+05    1.94e+05\n",
       "R&D Spend       -1.289e+05   8951.155    -14.402      0.000   -1.47e+05   -1.11e+05\n",
       "Administration  -9255.1227   8570.851     -1.080      0.288   -2.67e+04    8162.941\n",
       "Marketing Spend -1.714e+04   8997.011     -1.905      0.065   -3.54e+04    1144.359\n",
       "State_Florida     883.0256   3963.845      0.223      0.825   -7172.477    8938.529\n",
       "State_New York  -1681.0226   3594.225     -0.468      0.643   -8985.367    5623.322\n",
       "==============================================================================\n",
       "Omnibus:                        2.908   Durbin-Watson:                   2.197\n",
       "Prob(Omnibus):                  0.234   Jarque-Bera (JB):                2.340\n",
       "Skew:                           0.592   Prob(JB):                        0.310\n",
       "Kurtosis:                       2.964   Cond. No.                         11.8\n",
       "==============================================================================\n",
       "\n",
       "Notes:\n",
       "[1] Standard Errors assume that the covariance matrix of the errors is correctly specified.\n",
       "\"\"\""
      ]
     },
     "execution_count": 48,
     "metadata": {},
     "output_type": "execute_result"
    }
   ],
   "source": [
    "#Printing the Model Statistics\n",
    "model.summary()\n"
   ]
  },
  {
   "cell_type": "code",
   "execution_count": 49,
   "id": "cd02bd56",
   "metadata": {},
   "outputs": [],
   "source": [
    "#Checking the VIF Value\n",
    "\n",
    "from statsmodels.stats.outliers_influence import variance_inflation_factor\n",
    "\n",
    "vif = pd.DataFrame()\n",
    "\n",
    "vif[\"VIF\"] =[variance_inflation_factor(X_train.values, j) for j in range(X_train.shape[1])]\n",
    "vif[\"features\"] = X_train.columns\n"
   ]
  },
  {
   "cell_type": "code",
   "execution_count": 50,
   "id": "0683d490",
   "metadata": {},
   "outputs": [
    {
     "data": {
      "text/html": [
       "<div>\n",
       "<style scoped>\n",
       "    .dataframe tbody tr th:only-of-type {\n",
       "        vertical-align: middle;\n",
       "    }\n",
       "\n",
       "    .dataframe tbody tr th {\n",
       "        vertical-align: top;\n",
       "    }\n",
       "\n",
       "    .dataframe thead th {\n",
       "        text-align: right;\n",
       "    }\n",
       "</style>\n",
       "<table border=\"1\" class=\"dataframe\">\n",
       "  <thead>\n",
       "    <tr style=\"text-align: right;\">\n",
       "      <th></th>\n",
       "      <th>VIF</th>\n",
       "      <th>features</th>\n",
       "    </tr>\n",
       "  </thead>\n",
       "  <tbody>\n",
       "    <tr>\n",
       "      <th>0</th>\n",
       "      <td>12.282476</td>\n",
       "      <td>const</td>\n",
       "    </tr>\n",
       "    <tr>\n",
       "      <th>1</th>\n",
       "      <td>2.704653</td>\n",
       "      <td>R&amp;D Spend</td>\n",
       "    </tr>\n",
       "    <tr>\n",
       "      <th>2</th>\n",
       "      <td>1.234107</td>\n",
       "      <td>Administration</td>\n",
       "    </tr>\n",
       "    <tr>\n",
       "      <th>3</th>\n",
       "      <td>2.397892</td>\n",
       "      <td>Marketing Spend</td>\n",
       "    </tr>\n",
       "    <tr>\n",
       "      <th>4</th>\n",
       "      <td>1.274384</td>\n",
       "      <td>State_Florida</td>\n",
       "    </tr>\n",
       "    <tr>\n",
       "      <th>5</th>\n",
       "      <td>1.271328</td>\n",
       "      <td>State_New York</td>\n",
       "    </tr>\n",
       "  </tbody>\n",
       "</table>\n",
       "</div>"
      ],
      "text/plain": [
       "         VIF         features\n",
       "0  12.282476            const\n",
       "1   2.704653        R&D Spend\n",
       "2   1.234107   Administration\n",
       "3   2.397892  Marketing Spend\n",
       "4   1.274384    State_Florida\n",
       "5   1.271328   State_New York"
      ]
     },
     "execution_count": 50,
     "metadata": {},
     "output_type": "execute_result"
    }
   ],
   "source": [
    "vif"
   ]
  },
  {
   "cell_type": "code",
   "execution_count": 51,
   "id": "2493bed9",
   "metadata": {},
   "outputs": [
    {
     "data": {
      "text/plain": [
       "7.48100756724408"
      ]
     },
     "execution_count": 51,
     "metadata": {},
     "output_type": "execute_result"
    }
   ],
   "source": [
    "# MAPE (Mean Absolute Percentage Error)\n",
    "\n",
    "import numpy as np\n",
    "\n",
    "def mean_abs_perc_error(y_test,y_pred):\n",
    "    y_test,y_pred = np.array(y_test),np.array(y_pred)\n",
    "    return np.mean(np.abs((y_test - y_pred)/y_test))*100\n",
    "\n",
    "mean_abs_perc_error(y_test, predictions)"
   ]
  },
  {
   "cell_type": "code",
   "execution_count": null,
   "id": "3735c3cf",
   "metadata": {},
   "outputs": [],
   "source": []
  }
 ],
 "metadata": {
  "kernelspec": {
   "display_name": "Python 3",
   "language": "python",
   "name": "python3"
  },
  "language_info": {
   "codemirror_mode": {
    "name": "ipython",
    "version": 3
   },
   "file_extension": ".py",
   "mimetype": "text/x-python",
   "name": "python",
   "nbconvert_exporter": "python",
   "pygments_lexer": "ipython3",
   "version": "3.8.8"
  }
 },
 "nbformat": 4,
 "nbformat_minor": 5
}
